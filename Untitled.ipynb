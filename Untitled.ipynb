{
 "cells": [
  {
   "cell_type": "code",
   "execution_count": 12,
   "metadata": {},
   "outputs": [],
   "source": [
    "import glob\n",
    "\n",
    "# iterate files in directory\n",
    "for txto in glob.glob('datasets/labels/test/*.txt'):\n",
    "  new = []\n",
    "  #read input file\n",
    "  with open(txto, 'r') as file :\n",
    "    text = file.readline()\n",
    "    while text:\n",
    "      if text[0] == '1':\n",
    "        new_class0 = text[0].replace('1', '0') + text[1:]\n",
    "        new.append(new_class0)\n",
    "      elif text[0] == '2':\n",
    "        new_class1 = text[0].replace('2', '1') + text[1:]\n",
    "        new.append(new_class1)\n",
    "      elif text[0] == '3':\n",
    "        new_class2 = text[0].replace('3', '2') + text[1:]\n",
    "        new.append(new_class2)\n",
    "      text = file.readline()\n",
    "\n",
    "\n",
    "  with open(txto, 'w') as file:\n",
    "    file.write(''.join(i for i in new))\n",
    "    file.close()"
   ]
  },
  {
   "cell_type": "code",
   "execution_count": null,
   "metadata": {},
   "outputs": [],
   "source": []
  }
 ],
 "metadata": {
  "kernelspec": {
   "display_name": "conda_pytorch_p36",
   "language": "python",
   "name": "conda_pytorch_p36"
  },
  "language_info": {
   "codemirror_mode": {
    "name": "ipython",
    "version": 3
   },
   "file_extension": ".py",
   "mimetype": "text/x-python",
   "name": "python",
   "nbconvert_exporter": "python",
   "pygments_lexer": "ipython3",
   "version": "3.6.10"
  }
 },
 "nbformat": 4,
 "nbformat_minor": 4
}
